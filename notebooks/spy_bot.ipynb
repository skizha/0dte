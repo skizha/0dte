{
 "cells": [
  {
   "cell_type": "code",
   "execution_count": 27,
   "metadata": {},
   "outputs": [
    {
     "name": "stderr",
     "output_type": "stream",
     "text": [
      "[*********************100%***********************]  1 of 1 completed\n",
      "[*********************100%***********************]  1 of 1 completed\n"
     ]
    }
   ],
   "source": [
    "import yfinance as yf\n",
    "import pandas as pd\n",
    "import numpy as np\n",
    "\n",
    "# Download historical data for SPY and VIX\n",
    "spy_data = yf.download(\"SPY\", start=\"2020-01-01\", end=\"2024-01-01\", interval=\"1d\")\n",
    "vix_data = yf.download(\"^VIX\", start=\"2020-01-01\", end=\"2024-01-01\", interval=\"1d\")\n",
    "\n",
    "# Merge SPY and VIX data\n",
    "data = pd.merge(spy_data, vix_data, on='Date', suffixes=('_SPY', '_VIX'))"
   ]
  },
  {
   "cell_type": "code",
   "execution_count": 28,
   "metadata": {},
   "outputs": [
    {
     "data": {
      "text/html": [
       "<div>\n",
       "<style scoped>\n",
       "    .dataframe tbody tr th:only-of-type {\n",
       "        vertical-align: middle;\n",
       "    }\n",
       "\n",
       "    .dataframe tbody tr th {\n",
       "        vertical-align: top;\n",
       "    }\n",
       "\n",
       "    .dataframe thead tr th {\n",
       "        text-align: left;\n",
       "    }\n",
       "\n",
       "    .dataframe thead tr:last-of-type th {\n",
       "        text-align: right;\n",
       "    }\n",
       "</style>\n",
       "<table border=\"1\" class=\"dataframe\">\n",
       "  <thead>\n",
       "    <tr>\n",
       "      <th>Price</th>\n",
       "      <th>Close</th>\n",
       "      <th>High</th>\n",
       "      <th>Low</th>\n",
       "      <th>Open</th>\n",
       "      <th>Volume</th>\n",
       "      <th>Close</th>\n",
       "      <th>High</th>\n",
       "      <th>Low</th>\n",
       "      <th>Open</th>\n",
       "      <th>Volume</th>\n",
       "    </tr>\n",
       "    <tr>\n",
       "      <th>Ticker</th>\n",
       "      <th>SPY</th>\n",
       "      <th>SPY</th>\n",
       "      <th>SPY</th>\n",
       "      <th>SPY</th>\n",
       "      <th>SPY</th>\n",
       "      <th>^VIX</th>\n",
       "      <th>^VIX</th>\n",
       "      <th>^VIX</th>\n",
       "      <th>^VIX</th>\n",
       "      <th>^VIX</th>\n",
       "    </tr>\n",
       "    <tr>\n",
       "      <th>Date</th>\n",
       "      <th></th>\n",
       "      <th></th>\n",
       "      <th></th>\n",
       "      <th></th>\n",
       "      <th></th>\n",
       "      <th></th>\n",
       "      <th></th>\n",
       "      <th></th>\n",
       "      <th></th>\n",
       "      <th></th>\n",
       "    </tr>\n",
       "  </thead>\n",
       "  <tbody>\n",
       "    <tr>\n",
       "      <th>2020-01-02</th>\n",
       "      <td>301.194855</td>\n",
       "      <td>301.213415</td>\n",
       "      <td>299.025387</td>\n",
       "      <td>299.961792</td>\n",
       "      <td>59151200</td>\n",
       "      <td>12.47</td>\n",
       "      <td>13.720000</td>\n",
       "      <td>12.42</td>\n",
       "      <td>13.46</td>\n",
       "      <td>0</td>\n",
       "    </tr>\n",
       "    <tr>\n",
       "      <th>2020-01-03</th>\n",
       "      <td>298.914215</td>\n",
       "      <td>300.054588</td>\n",
       "      <td>297.699684</td>\n",
       "      <td>297.755309</td>\n",
       "      <td>77709700</td>\n",
       "      <td>14.02</td>\n",
       "      <td>16.200001</td>\n",
       "      <td>13.13</td>\n",
       "      <td>15.01</td>\n",
       "      <td>0</td>\n",
       "    </tr>\n",
       "    <tr>\n",
       "      <th>2020-01-06</th>\n",
       "      <td>300.054535</td>\n",
       "      <td>300.137973</td>\n",
       "      <td>297.013540</td>\n",
       "      <td>297.134071</td>\n",
       "      <td>55653900</td>\n",
       "      <td>13.85</td>\n",
       "      <td>16.389999</td>\n",
       "      <td>13.54</td>\n",
       "      <td>15.45</td>\n",
       "      <td>0</td>\n",
       "    </tr>\n",
       "    <tr>\n",
       "      <th>2020-01-07</th>\n",
       "      <td>299.210876</td>\n",
       "      <td>299.961845</td>\n",
       "      <td>298.756566</td>\n",
       "      <td>299.479722</td>\n",
       "      <td>40496400</td>\n",
       "      <td>13.79</td>\n",
       "      <td>14.460000</td>\n",
       "      <td>13.39</td>\n",
       "      <td>13.84</td>\n",
       "      <td>0</td>\n",
       "    </tr>\n",
       "    <tr>\n",
       "      <th>2020-01-08</th>\n",
       "      <td>300.805573</td>\n",
       "      <td>302.038636</td>\n",
       "      <td>299.155292</td>\n",
       "      <td>299.405605</td>\n",
       "      <td>68296000</td>\n",
       "      <td>13.45</td>\n",
       "      <td>15.240000</td>\n",
       "      <td>12.83</td>\n",
       "      <td>15.16</td>\n",
       "      <td>0</td>\n",
       "    </tr>\n",
       "  </tbody>\n",
       "</table>\n",
       "</div>"
      ],
      "text/plain": [
       "Price            Close        High         Low        Open    Volume  Close  \\\n",
       "Ticker             SPY         SPY         SPY         SPY       SPY   ^VIX   \n",
       "Date                                                                          \n",
       "2020-01-02  301.194855  301.213415  299.025387  299.961792  59151200  12.47   \n",
       "2020-01-03  298.914215  300.054588  297.699684  297.755309  77709700  14.02   \n",
       "2020-01-06  300.054535  300.137973  297.013540  297.134071  55653900  13.85   \n",
       "2020-01-07  299.210876  299.961845  298.756566  299.479722  40496400  13.79   \n",
       "2020-01-08  300.805573  302.038636  299.155292  299.405605  68296000  13.45   \n",
       "\n",
       "Price            High    Low   Open Volume  \n",
       "Ticker           ^VIX   ^VIX   ^VIX   ^VIX  \n",
       "Date                                        \n",
       "2020-01-02  13.720000  12.42  13.46      0  \n",
       "2020-01-03  16.200001  13.13  15.01      0  \n",
       "2020-01-06  16.389999  13.54  15.45      0  \n",
       "2020-01-07  14.460000  13.39  13.84      0  \n",
       "2020-01-08  15.240000  12.83  15.16      0  "
      ]
     },
     "execution_count": 28,
     "metadata": {},
     "output_type": "execute_result"
    }
   ],
   "source": [
    "data.head(5)"
   ]
  },
  {
   "cell_type": "code",
   "execution_count": 29,
   "metadata": {},
   "outputs": [
    {
     "data": {
      "text/plain": [
       "(1006, 10)"
      ]
     },
     "execution_count": 29,
     "metadata": {},
     "output_type": "execute_result"
    }
   ],
   "source": [
    "data.shape"
   ]
  },
  {
   "cell_type": "code",
   "execution_count": 30,
   "metadata": {},
   "outputs": [],
   "source": [
    "# Renaming columns to High_SPY, High_VIX, etc.\n",
    "data.columns = [f\"{col[0]}_{col[1]}\" if isinstance(col, tuple) else col for col in data.columns]\n",
    "data.reset_index(drop=True, inplace=True)"
   ]
  },
  {
   "cell_type": "code",
   "execution_count": 31,
   "metadata": {},
   "outputs": [
    {
     "data": {
      "text/html": [
       "<div>\n",
       "<style scoped>\n",
       "    .dataframe tbody tr th:only-of-type {\n",
       "        vertical-align: middle;\n",
       "    }\n",
       "\n",
       "    .dataframe tbody tr th {\n",
       "        vertical-align: top;\n",
       "    }\n",
       "\n",
       "    .dataframe thead th {\n",
       "        text-align: right;\n",
       "    }\n",
       "</style>\n",
       "<table border=\"1\" class=\"dataframe\">\n",
       "  <thead>\n",
       "    <tr style=\"text-align: right;\">\n",
       "      <th></th>\n",
       "      <th>Close_SPY</th>\n",
       "      <th>High_SPY</th>\n",
       "      <th>Low_SPY</th>\n",
       "      <th>Open_SPY</th>\n",
       "      <th>Volume_SPY</th>\n",
       "      <th>Close_^VIX</th>\n",
       "      <th>High_^VIX</th>\n",
       "      <th>Low_^VIX</th>\n",
       "      <th>Open_^VIX</th>\n",
       "      <th>Volume_^VIX</th>\n",
       "    </tr>\n",
       "  </thead>\n",
       "  <tbody>\n",
       "    <tr>\n",
       "      <th>0</th>\n",
       "      <td>301.194855</td>\n",
       "      <td>301.213415</td>\n",
       "      <td>299.025387</td>\n",
       "      <td>299.961792</td>\n",
       "      <td>59151200</td>\n",
       "      <td>12.47</td>\n",
       "      <td>13.720000</td>\n",
       "      <td>12.42</td>\n",
       "      <td>13.46</td>\n",
       "      <td>0</td>\n",
       "    </tr>\n",
       "    <tr>\n",
       "      <th>1</th>\n",
       "      <td>298.914215</td>\n",
       "      <td>300.054588</td>\n",
       "      <td>297.699684</td>\n",
       "      <td>297.755309</td>\n",
       "      <td>77709700</td>\n",
       "      <td>14.02</td>\n",
       "      <td>16.200001</td>\n",
       "      <td>13.13</td>\n",
       "      <td>15.01</td>\n",
       "      <td>0</td>\n",
       "    </tr>\n",
       "    <tr>\n",
       "      <th>2</th>\n",
       "      <td>300.054535</td>\n",
       "      <td>300.137973</td>\n",
       "      <td>297.013540</td>\n",
       "      <td>297.134071</td>\n",
       "      <td>55653900</td>\n",
       "      <td>13.85</td>\n",
       "      <td>16.389999</td>\n",
       "      <td>13.54</td>\n",
       "      <td>15.45</td>\n",
       "      <td>0</td>\n",
       "    </tr>\n",
       "    <tr>\n",
       "      <th>3</th>\n",
       "      <td>299.210876</td>\n",
       "      <td>299.961845</td>\n",
       "      <td>298.756566</td>\n",
       "      <td>299.479722</td>\n",
       "      <td>40496400</td>\n",
       "      <td>13.79</td>\n",
       "      <td>14.460000</td>\n",
       "      <td>13.39</td>\n",
       "      <td>13.84</td>\n",
       "      <td>0</td>\n",
       "    </tr>\n",
       "    <tr>\n",
       "      <th>4</th>\n",
       "      <td>300.805573</td>\n",
       "      <td>302.038636</td>\n",
       "      <td>299.155292</td>\n",
       "      <td>299.405605</td>\n",
       "      <td>68296000</td>\n",
       "      <td>13.45</td>\n",
       "      <td>15.240000</td>\n",
       "      <td>12.83</td>\n",
       "      <td>15.16</td>\n",
       "      <td>0</td>\n",
       "    </tr>\n",
       "  </tbody>\n",
       "</table>\n",
       "</div>"
      ],
      "text/plain": [
       "    Close_SPY    High_SPY     Low_SPY    Open_SPY  Volume_SPY  Close_^VIX  \\\n",
       "0  301.194855  301.213415  299.025387  299.961792    59151200       12.47   \n",
       "1  298.914215  300.054588  297.699684  297.755309    77709700       14.02   \n",
       "2  300.054535  300.137973  297.013540  297.134071    55653900       13.85   \n",
       "3  299.210876  299.961845  298.756566  299.479722    40496400       13.79   \n",
       "4  300.805573  302.038636  299.155292  299.405605    68296000       13.45   \n",
       "\n",
       "   High_^VIX  Low_^VIX  Open_^VIX  Volume_^VIX  \n",
       "0  13.720000     12.42      13.46            0  \n",
       "1  16.200001     13.13      15.01            0  \n",
       "2  16.389999     13.54      15.45            0  \n",
       "3  14.460000     13.39      13.84            0  \n",
       "4  15.240000     12.83      15.16            0  "
      ]
     },
     "execution_count": 31,
     "metadata": {},
     "output_type": "execute_result"
    }
   ],
   "source": [
    "data.head(5)"
   ]
  },
  {
   "cell_type": "code",
   "execution_count": 32,
   "metadata": {},
   "outputs": [],
   "source": [
    "# Calculate daily returns and price range for SPY\n",
    "data['Returns_SPY'] = data['Close_SPY'].pct_change()\n",
    "data['Range_SPY'] = data['High_SPY'] - data['Low_SPY']\n",
    "\n",
    "# Define target variable: 1 if SPY price remains within a range, 0 otherwise\n",
    "range_threshold = data['Range_SPY'].quantile(0.25)  # Use the 25th percentile as a threshold\n",
    "data['Target'] = np.where(data['Range_SPY'] < range_threshold, 1, 0)\n",
    "\n",
    "# Drop missing values\n",
    "data.dropna(inplace=True)"
   ]
  },
  {
   "cell_type": "code",
   "execution_count": 42,
   "metadata": {},
   "outputs": [
    {
     "data": {
      "text/plain": [
       "2.9690711230668967"
      ]
     },
     "execution_count": 42,
     "metadata": {},
     "output_type": "execute_result"
    }
   ],
   "source": [
    "data['Range_SPY'].quantile(0.25)"
   ]
  },
  {
   "cell_type": "code",
   "execution_count": 44,
   "metadata": {},
   "outputs": [
    {
     "data": {
      "text/plain": [
       "Target\n",
       "0    754\n",
       "1    251\n",
       "Name: count, dtype: int64"
      ]
     },
     "execution_count": 44,
     "metadata": {},
     "output_type": "execute_result"
    }
   ],
   "source": [
    "data['Target'].value_counts()"
   ]
  },
  {
   "cell_type": "code",
   "execution_count": 10,
   "metadata": {},
   "outputs": [],
   "source": [
    "import talib\n",
    "\n",
    "# Calculate technical indicators for SPY\n",
    "data['SMA_SPY'] = talib.SMA(data['Close_SPY'], timeperiod=20)\n",
    "data['RSI_SPY'] = talib.RSI(data['Close_SPY'], timeperiod=14)\n",
    "data['ATR_SPY'] = talib.ATR(data['High_SPY'], data['Low_SPY'], data['Close_SPY'], timeperiod=14)\n",
    "data['IV_SPY'] = data['Close_SPY'].rolling(window=14).std()  # Historical volatility\n",
    "\n",
    "# Use VIX as a feature\n",
    "data['VIX'] = data['Close_^VIX']\n",
    "\n",
    "# Drop rows with missing values (due to indicator calculations)\n",
    "data.dropna(inplace=True)\n",
    "\n",
    "# Define features and target\n",
    "features = ['SMA_SPY', 'RSI_SPY', 'ATR_SPY', 'IV_SPY', 'VIX']\n",
    "X = data[features]\n",
    "y = data['Target']"
   ]
  },
  {
   "cell_type": "code",
   "execution_count": 11,
   "metadata": {},
   "outputs": [
    {
     "name": "stderr",
     "output_type": "stream",
     "text": [
      "c:\\Users\\Deepika Sagar\\Documents\\OptionsTrading\\ot\\lib\\site-packages\\keras\\src\\layers\\rnn\\rnn.py:200: UserWarning: Do not pass an `input_shape`/`input_dim` argument to a layer. When using Sequential models, prefer using an `Input(shape)` object as the first layer in the model instead.\n",
      "  super().__init__(**kwargs)\n"
     ]
    },
    {
     "name": "stdout",
     "output_type": "stream",
     "text": [
      "Epoch 1/20\n",
      "\u001b[1m25/25\u001b[0m \u001b[32m━━━━━━━━━━━━━━━━━━━━\u001b[0m\u001b[37m\u001b[0m \u001b[1m3s\u001b[0m 19ms/step - accuracy: 0.7228 - loss: 0.6834 - val_accuracy: 0.6701 - val_loss: 0.6681\n",
      "Epoch 2/20\n",
      "\u001b[1m25/25\u001b[0m \u001b[32m━━━━━━━━━━━━━━━━━━━━\u001b[0m\u001b[37m\u001b[0m \u001b[1m0s\u001b[0m 7ms/step - accuracy: 0.7894 - loss: 0.6284 - val_accuracy: 0.6701 - val_loss: 0.6384\n",
      "Epoch 3/20\n",
      "\u001b[1m25/25\u001b[0m \u001b[32m━━━━━━━━━━━━━━━━━━━━\u001b[0m\u001b[37m\u001b[0m \u001b[1m0s\u001b[0m 7ms/step - accuracy: 0.8042 - loss: 0.5274 - val_accuracy: 0.6701 - val_loss: 0.6803\n",
      "Epoch 4/20\n",
      "\u001b[1m25/25\u001b[0m \u001b[32m━━━━━━━━━━━━━━━━━━━━\u001b[0m\u001b[37m\u001b[0m \u001b[1m0s\u001b[0m 7ms/step - accuracy: 0.7873 - loss: 0.4867 - val_accuracy: 0.6701 - val_loss: 0.6866\n",
      "Epoch 5/20\n",
      "\u001b[1m25/25\u001b[0m \u001b[32m━━━━━━━━━━━━━━━━━━━━\u001b[0m\u001b[37m\u001b[0m \u001b[1m0s\u001b[0m 7ms/step - accuracy: 0.8048 - loss: 0.4566 - val_accuracy: 0.6701 - val_loss: 0.6657\n",
      "Epoch 6/20\n",
      "\u001b[1m25/25\u001b[0m \u001b[32m━━━━━━━━━━━━━━━━━━━━\u001b[0m\u001b[37m\u001b[0m \u001b[1m0s\u001b[0m 7ms/step - accuracy: 0.7968 - loss: 0.4538 - val_accuracy: 0.6701 - val_loss: 0.6505\n",
      "Epoch 7/20\n",
      "\u001b[1m25/25\u001b[0m \u001b[32m━━━━━━━━━━━━━━━━━━━━\u001b[0m\u001b[37m\u001b[0m \u001b[1m0s\u001b[0m 7ms/step - accuracy: 0.7823 - loss: 0.4420 - val_accuracy: 0.6701 - val_loss: 0.6387\n",
      "Epoch 8/20\n",
      "\u001b[1m25/25\u001b[0m \u001b[32m━━━━━━━━━━━━━━━━━━━━\u001b[0m\u001b[37m\u001b[0m \u001b[1m0s\u001b[0m 7ms/step - accuracy: 0.7807 - loss: 0.4347 - val_accuracy: 0.6701 - val_loss: 0.6305\n",
      "Epoch 9/20\n",
      "\u001b[1m25/25\u001b[0m \u001b[32m━━━━━━━━━━━━━━━━━━━━\u001b[0m\u001b[37m\u001b[0m \u001b[1m0s\u001b[0m 7ms/step - accuracy: 0.8011 - loss: 0.3947 - val_accuracy: 0.6701 - val_loss: 0.6080\n",
      "Epoch 10/20\n",
      "\u001b[1m25/25\u001b[0m \u001b[32m━━━━━━━━━━━━━━━━━━━━\u001b[0m\u001b[37m\u001b[0m \u001b[1m0s\u001b[0m 6ms/step - accuracy: 0.7830 - loss: 0.4022 - val_accuracy: 0.6701 - val_loss: 0.5971\n",
      "Epoch 11/20\n",
      "\u001b[1m25/25\u001b[0m \u001b[32m━━━━━━━━━━━━━━━━━━━━\u001b[0m\u001b[37m\u001b[0m \u001b[1m0s\u001b[0m 9ms/step - accuracy: 0.7988 - loss: 0.3793 - val_accuracy: 0.6701 - val_loss: 0.5875\n",
      "Epoch 12/20\n",
      "\u001b[1m25/25\u001b[0m \u001b[32m━━━━━━━━━━━━━━━━━━━━\u001b[0m\u001b[37m\u001b[0m \u001b[1m0s\u001b[0m 7ms/step - accuracy: 0.8054 - loss: 0.3628 - val_accuracy: 0.6598 - val_loss: 0.5800\n",
      "Epoch 13/20\n",
      "\u001b[1m25/25\u001b[0m \u001b[32m━━━━━━━━━━━━━━━━━━━━\u001b[0m\u001b[37m\u001b[0m \u001b[1m0s\u001b[0m 7ms/step - accuracy: 0.8109 - loss: 0.3493 - val_accuracy: 0.6753 - val_loss: 0.5758\n",
      "Epoch 14/20\n",
      "\u001b[1m25/25\u001b[0m \u001b[32m━━━━━━━━━━━━━━━━━━━━\u001b[0m\u001b[37m\u001b[0m \u001b[1m0s\u001b[0m 6ms/step - accuracy: 0.8388 - loss: 0.3319 - val_accuracy: 0.6856 - val_loss: 0.5741\n",
      "Epoch 15/20\n",
      "\u001b[1m25/25\u001b[0m \u001b[32m━━━━━━━━━━━━━━━━━━━━\u001b[0m\u001b[37m\u001b[0m \u001b[1m0s\u001b[0m 7ms/step - accuracy: 0.8237 - loss: 0.3316 - val_accuracy: 0.6753 - val_loss: 0.5732\n",
      "Epoch 16/20\n",
      "\u001b[1m25/25\u001b[0m \u001b[32m━━━━━━━━━━━━━━━━━━━━\u001b[0m\u001b[37m\u001b[0m \u001b[1m0s\u001b[0m 8ms/step - accuracy: 0.8335 - loss: 0.3249 - val_accuracy: 0.6701 - val_loss: 0.5731\n",
      "Epoch 17/20\n",
      "\u001b[1m25/25\u001b[0m \u001b[32m━━━━━━━━━━━━━━━━━━━━\u001b[0m\u001b[37m\u001b[0m \u001b[1m0s\u001b[0m 7ms/step - accuracy: 0.8436 - loss: 0.3555 - val_accuracy: 0.6804 - val_loss: 0.5727\n",
      "Epoch 18/20\n",
      "\u001b[1m25/25\u001b[0m \u001b[32m━━━━━━━━━━━━━━━━━━━━\u001b[0m\u001b[37m\u001b[0m \u001b[1m0s\u001b[0m 7ms/step - accuracy: 0.8500 - loss: 0.3425 - val_accuracy: 0.6753 - val_loss: 0.5737\n",
      "Epoch 19/20\n",
      "\u001b[1m25/25\u001b[0m \u001b[32m━━━━━━━━━━━━━━━━━━━━\u001b[0m\u001b[37m\u001b[0m \u001b[1m0s\u001b[0m 8ms/step - accuracy: 0.8389 - loss: 0.3486 - val_accuracy: 0.6804 - val_loss: 0.5737\n",
      "Epoch 20/20\n",
      "\u001b[1m25/25\u001b[0m \u001b[32m━━━━━━━━━━━━━━━━━━━━\u001b[0m\u001b[37m\u001b[0m \u001b[1m0s\u001b[0m 8ms/step - accuracy: 0.8429 - loss: 0.3459 - val_accuracy: 0.6753 - val_loss: 0.5733\n"
     ]
    },
    {
     "data": {
      "text/plain": [
       "<keras.src.callbacks.history.History at 0x262aa34e4a0>"
      ]
     },
     "execution_count": 11,
     "metadata": {},
     "output_type": "execute_result"
    }
   ],
   "source": [
    "import numpy as np\n",
    "import tensorflow as tf\n",
    "from tensorflow.keras.models import Sequential\n",
    "from tensorflow.keras.layers import LSTM, Dense, Dropout\n",
    "from sklearn.preprocessing import MinMaxScaler\n",
    "\n",
    "# Normalize features\n",
    "scaler = MinMaxScaler()\n",
    "X_scaled = scaler.fit_transform(X)\n",
    "\n",
    "# Reshape data for LSTM (samples, timesteps, features)\n",
    "X_reshaped = X_scaled.reshape((X_scaled.shape[0], 1, X_scaled.shape[1]))\n",
    "\n",
    "# Split data into training and testing sets\n",
    "train_size = int(len(X_reshaped) * 0.8)\n",
    "X_train, X_test = X_reshaped[:train_size], X_reshaped[train_size:]\n",
    "y_train, y_test = y[:train_size], y[train_size:]\n",
    "\n",
    "# Build LSTM model\n",
    "model = Sequential()\n",
    "model.add(LSTM(50, return_sequences=True, input_shape=(X_train.shape[1], X_train.shape[2])))\n",
    "model.add(Dropout(0.2))\n",
    "model.add(LSTM(50, return_sequences=False))\n",
    "model.add(Dropout(0.2))\n",
    "model.add(Dense(1, activation='sigmoid'))\n",
    "\n",
    "# Compile model\n",
    "model.compile(optimizer='adam', loss='binary_crossentropy', metrics=['accuracy'])\n",
    "\n",
    "# Train model\n",
    "model.fit(X_train, y_train, epochs=20, batch_size=32, validation_data=(X_test, y_test))"
   ]
  },
  {
   "cell_type": "code",
   "execution_count": 12,
   "metadata": {},
   "outputs": [
    {
     "name": "stdout",
     "output_type": "stream",
     "text": [
      "\u001b[1m31/31\u001b[0m \u001b[32m━━━━━━━━━━━━━━━━━━━━\u001b[0m\u001b[37m\u001b[0m \u001b[1m1s\u001b[0m 16ms/step\n"
     ]
    },
    {
     "data": {
      "image/png": "[encoded data removed]",
      "text/plain": [
       "<Figure size 1200x600 with 1 Axes>"
      ]
     },
     "metadata": {},
     "output_type": "display_data"
    }
   ],
   "source": [
    "# Generate predictions for the entire dataset\n",
    "data['Prediction'] = model.predict(X_reshaped).flatten()\n",
    "\n",
    "# Define trading logic: Sell straddle/strangle if prediction is 1 (low volatility)\n",
    "data['Signal'] = np.where(data['Prediction'] > 0.5, 'sell_straddle', 'hold')\n",
    "\n",
    "# Simulate trades\n",
    "data['Trade_Returns'] = np.where(data['Signal'].shift(1) == 'sell_straddle', \n",
    "                                 data['Range_SPY'].shift(-1) - data['Range_SPY'], 0)\n",
    "\n",
    "# Calculate cumulative returns\n",
    "data['Cumulative_Returns'] = (1 + data['Trade_Returns']).cumprod()\n",
    "\n",
    "# Plot results\n",
    "import matplotlib.pyplot as plt\n",
    "plt.figure(figsize=(12, 6))\n",
    "plt.plot(data['Cumulative_Returns'])\n",
    "plt.title(\"Cumulative Returns from Straddle/Strangle Strategy (LSTM with VIX)\")\n",
    "plt.xlabel(\"Date\")\n",
    "plt.ylabel(\"Cumulative Returns\")\n",
    "plt.show()"
   ]
  },
  {
   "cell_type": "code",
   "execution_count": 18,
   "metadata": {},
   "outputs": [],
   "source": [
    "import gym\n",
    "from gym import spaces\n",
    "import numpy as np\n",
    "\n",
    "class OptionsTradingEnv(gym.Env):\n",
    "    def __init__(self, data):\n",
    "        super(OptionsTradingEnv, self).__init__()\n",
    "        self.data = data\n",
    "        self.current_step = 0\n",
    "        self.max_steps = len(data) - 1\n",
    "\n",
    "        # Define action space: 0 = hold, 1 = sell straddle\n",
    "        self.action_space = spaces.Discrete(2)\n",
    "\n",
    "        # Define observation space: SMA_SPY, RSI_SPY, ATR_SPY, IV_SPY, VIX\n",
    "        self.observation_space = spaces.Box(low=0, high=1, shape=(5,), dtype=np.float32)\n",
    "\n",
    "    def reset(self):\n",
    "        self.current_step = 0\n",
    "        return self.data.iloc[self.current_step][['SMA_SPY', 'RSI_SPY', 'ATR_SPY', 'IV_SPY', 'VIX']].values\n",
    "\n",
    "    def step(self, action):\n",
    "        self.current_step += 1\n",
    "        if self.current_step >= self.max_steps:\n",
    "            return None, 0, True, {}\n",
    "\n",
    "        # Get current state\n",
    "        state = self.data.iloc[self.current_step][['SMA_SPY', 'RSI_SPY', 'ATR_SPY', 'IV_SPY', 'VIX']].values\n",
    "\n",
    "        # Calculate reward\n",
    "        reward = 0\n",
    "        if action == 1:  # Sell straddle\n",
    "            reward = self.data.iloc[self.current_step]['Range_SPY'] - self.data.iloc[self.current_step - 1]['Range_SPY']\n",
    "\n",
    "        # Check if episode is done\n",
    "        done = self.current_step >= self.max_steps\n",
    "\n",
    "        return state, reward, done, {}\n",
    "\n",
    "# Create environment\n",
    "env = OptionsTradingEnv(data)"
   ]
  },
  {
   "cell_type": "code",
   "execution_count": null,
   "metadata": {},
   "outputs": [
    {
     "name": "stdout",
     "output_type": "stream",
     "text": [
      "Using cpu device\n",
      "---------------------------------\n",
      "| rollout/           |          |\n",
      "|    ep_len_mean     | 21.6     |\n",
      "|    ep_rew_mean     | 21.6     |\n",
      "| time/              |          |\n",
      "|    fps             | 4957     |\n",
      "|    iterations      | 1        |\n",
      "|    time_elapsed    | 1        |\n",
      "|    total_timesteps | 8192     |\n",
      "---------------------------------\n",
      "-----------------------------------------\n",
      "| rollout/                |             |\n",
      "|    ep_len_mean          | 34.2        |\n",
      "|    ep_rew_mean          | 34.2        |\n",
      "| time/                   |             |\n",
      "|    fps                  | 2046        |\n",
      "|    iterations           | 2           |\n",
      "|    time_elapsed         | 8           |\n",
      "|    total_timesteps      | 16384       |\n",
      "| train/                  |             |\n",
      "|    approx_kl            | 0.014661399 |\n",
      "|    clip_fraction        | 0.225       |\n",
      "|    clip_range           | 0.2         |\n",
      "|    entropy_loss         | -0.681      |\n",
      "|    explained_variance   | -0.00167    |\n",
      "|    learning_rate        | 0.0003      |\n",
      "|    loss                 | 3.53        |\n",
      "|    n_updates            | 10          |\n",
      "|    policy_gradient_loss | -0.0265     |\n",
      "|    value_loss           | 19.2        |\n",
      "-----------------------------------------\n"
     ]
    }
   ],
   "source": [
    "from stable_baselines3 import PPO\n",
    "from stable_baselines3.common.vec_env import DummyVecEnv\n",
    "from stable_baselines3.common.env_util import make_vec_env\n",
    "\n",
    "# Example: Create a vectorized environment\n",
    "env = make_vec_env(\"CartPole-v1\", n_envs=4, vec_env_cls=DummyVecEnv)\n",
    "\n",
    "# Initialize the PPO model\n",
    "model = PPO(\"MlpPolicy\", env, verbose=1)\n",
    "\n",
    "# Train the model\n",
    "model.learn(total_timesteps=10000)\n",
    "\n",
    "# Save model\n",
    "model.save(\"options_trading_ppo_spy_vix\")\n"
   ]
  },
  {
   "cell_type": "code",
   "execution_count": 21,
   "metadata": {},
   "outputs": [],
   "source": [
    "def trading_bot():\n",
    "    while True:\n",
    "        # Fetch real-time data\n",
    "        data = fetch_real_time_data()\n",
    "\n",
    "        # Predict using LSTM\n",
    "        features = scaler.transform(data[['SMA_SPY', 'RSI_SPY', 'ATR_SPY', 'IV_SPY', 'VIX']])\n",
    "        prediction = model.predict(features.reshape(1, 1, -1)).flatten()[0]\n",
    "\n",
    "        # Decide action using RL agent\n",
    "        action, _ = model.predict(features)\n",
    "\n",
    "        # Execute trade\n",
    "        if action == 1:  # Sell straddle\n",
    "            place_straddle_order()\n",
    "\n",
    "        time.sleep(60)  # Wait 1 minute before next iteration"
   ]
  }
 ],
 "metadata": {
  "kernelspec": {
   "display_name": "ot",
   "language": "python",
   "name": "python3"
  },
  "language_info": {
   "codemirror_mode": {
    "name": "ipython",
    "version": 3
   },
   "file_extension": ".py",
   "mimetype": "text/x-python",
   "name": "python",
   "nbconvert_exporter": "python",
   "pygments_lexer": "ipython3",
   "version": "3.10.2"
  }
 },
 "nbformat": 4,
 "nbformat_minor": 2
}
